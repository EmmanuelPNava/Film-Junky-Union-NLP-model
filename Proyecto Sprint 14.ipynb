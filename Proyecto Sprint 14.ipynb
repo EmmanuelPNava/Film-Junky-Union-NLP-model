{
 "cells": [
  {
   "cell_type": "markdown",
   "metadata": {},
   "source": [
    "# Descripción del proyecto.\n",
    "---\n",
    "Film Junky Union, una nueva comunidad vanguardista para los aficionados de las películas clásicas, está desarrollando un sistema para filtrar y categorizar reseñas de películas. Nuestro objetivo es entrenar un modelo para detectar las críticas negativas de forma automática. Para lograrlo, utilizaremos un conjunto de datos de reseñas de películas de IMDB con leyendas de polaridad para construir un modelo para clasificar las reseñas positivas y negativas. Este deberá alcanzar un valor F1 de al menos 0.85."
   ]
  },
  {
   "cell_type": "markdown",
   "metadata": {},
   "source": [
    "## Inicialización."
   ]
  },
  {
   "cell_type": "code",
   "execution_count": 69,
   "metadata": {},
   "outputs": [
    {
     "data": {
      "text/plain": [
       "'2.2.2'"
      ]
     },
     "execution_count": 69,
     "metadata": {},
     "output_type": "execute_result"
    }
   ],
   "source": [
    "import pandas as pd\n",
    "import numpy as np\n",
    "import torch\n",
    "\n",
    "import matplotlib.pyplot as plt\n",
    "import matplotlib.dates as mdates\n",
    "import seaborn as sns\n",
    "\n",
    "from tqdm.auto import tqdm\n",
    "\n",
    "from sklearn.feature_extraction.text import TfidfVectorizer\n",
    "from sklearn.model_selection import train_test_split, cross_val_score\n",
    "from sklearn.metrics import f1_score, roc_auc_score, confusion_matrix\n",
    "from sklearn.linear_model import LogisticRegression\n",
    "from sklearn.ensemble import RandomForestClassifier\n",
    "\n",
    "from catboost import CatBoostClassifier\n",
    "from lightgbm import LGBMClassifier\n",
    "\n",
    "import spacy\n",
    "import re\n",
    "import nltk\n",
    "#nltk.download('stopwords')\n",
    "from nltk.corpus import stopwords as nltk_stopwords\n",
    "\n",
    "pd.__version__"
   ]
  },
  {
   "cell_type": "code",
   "execution_count": 2,
   "metadata": {},
   "outputs": [],
   "source": [
    "%matplotlib inline\n",
    "%config InlineBackend.figure_format = 'png'\n",
    "\n",
    "plt.style.use('seaborn-v0_8')"
   ]
  },
  {
   "cell_type": "code",
   "execution_count": 3,
   "metadata": {},
   "outputs": [],
   "source": [
    "tqdm.pandas()"
   ]
  },
  {
   "cell_type": "code",
   "execution_count": 50,
   "metadata": {},
   "outputs": [
    {
     "name": "stdout",
     "output_type": "stream",
     "text": [
      "cpu\n"
     ]
    }
   ],
   "source": [
    "device = torch.device(\"cuda\" if torch.cuda.is_available() else \"cpu\")\n",
    "print(device)"
   ]
  },
  {
   "cell_type": "markdown",
   "metadata": {},
   "source": [
    "## Cargar datos.\n",
    "---\n",
    "Para entrenar un modelo que pueda procesar el lenguaje natural se necesita bastante el uso de memoria, por lo tanto vamos a tratar de disminuir un poco el consumo. "
   ]
  },
  {
   "cell_type": "code",
   "execution_count": 4,
   "metadata": {},
   "outputs": [],
   "source": [
    "df = pd.read_csv(r\"C:\\Users\\\\Downloads\\imdb_reviews.tsv\", sep='\\t')"
   ]
  },
  {
   "cell_type": "code",
   "execution_count": 5,
   "metadata": {},
   "outputs": [
    {
     "name": "stdout",
     "output_type": "stream",
     "text": [
      "<class 'pandas.core.frame.DataFrame'>\n",
      "RangeIndex: 47331 entries, 0 to 47330\n",
      "Data columns (total 17 columns):\n",
      " #   Column           Non-Null Count  Dtype  \n",
      "---  ------           --------------  -----  \n",
      " 0   tconst           47331 non-null  object \n",
      " 1   title_type       47331 non-null  object \n",
      " 2   primary_title    47331 non-null  object \n",
      " 3   original_title   47331 non-null  object \n",
      " 4   start_year       47331 non-null  int64  \n",
      " 5   end_year         47331 non-null  object \n",
      " 6   runtime_minutes  47331 non-null  object \n",
      " 7   is_adult         47331 non-null  int64  \n",
      " 8   genres           47331 non-null  object \n",
      " 9   average_rating   47329 non-null  float64\n",
      " 10  votes            47329 non-null  float64\n",
      " 11  review           47331 non-null  object \n",
      " 12  rating           47331 non-null  int64  \n",
      " 13  sp               47331 non-null  object \n",
      " 14  pos              47331 non-null  int64  \n",
      " 15  ds_part          47331 non-null  object \n",
      " 16  idx              47331 non-null  int64  \n",
      "dtypes: float64(2), int64(5), object(10)\n",
      "memory usage: 6.1+ MB\n"
     ]
    }
   ],
   "source": [
    "df.info()"
   ]
  },
  {
   "cell_type": "code",
   "execution_count": 6,
   "metadata": {},
   "outputs": [
    {
     "name": "stdout",
     "output_type": "stream",
     "text": [
      "90576294\n"
     ]
    }
   ],
   "source": [
    "print(df\n",
    " .memory_usage(deep=True)\n",
    " .sum()\n",
    ")"
   ]
  },
  {
   "cell_type": "code",
   "execution_count": 7,
   "metadata": {},
   "outputs": [],
   "source": [
    "df = pd.read_csv(r\"C:\\Users\\\\Downloads\\imdb_reviews.tsv\", sep='\\t', engine='pyarrow', dtype_backend='pyarrow')"
   ]
  },
  {
   "cell_type": "code",
   "execution_count": 8,
   "metadata": {},
   "outputs": [
    {
     "name": "stdout",
     "output_type": "stream",
     "text": [
      "<class 'pandas.core.frame.DataFrame'>\n",
      "RangeIndex: 47331 entries, 0 to 47330\n",
      "Data columns (total 17 columns):\n",
      " #   Column           Non-Null Count  Dtype          \n",
      "---  ------           --------------  -----          \n",
      " 0   tconst           47331 non-null  string[pyarrow]\n",
      " 1   title_type       47331 non-null  string[pyarrow]\n",
      " 2   primary_title    47331 non-null  string[pyarrow]\n",
      " 3   original_title   47331 non-null  string[pyarrow]\n",
      " 4   start_year       47331 non-null  int64[pyarrow] \n",
      " 5   end_year         47331 non-null  string[pyarrow]\n",
      " 6   runtime_minutes  47331 non-null  string[pyarrow]\n",
      " 7   is_adult         47331 non-null  int64[pyarrow] \n",
      " 8   genres           47331 non-null  string[pyarrow]\n",
      " 9   average_rating   47329 non-null  double[pyarrow]\n",
      " 10  votes            47329 non-null  int64[pyarrow] \n",
      " 11  review           47331 non-null  string[pyarrow]\n",
      " 12  rating           47331 non-null  int64[pyarrow] \n",
      " 13  sp               47331 non-null  string[pyarrow]\n",
      " 14  pos              47331 non-null  int64[pyarrow] \n",
      " 15  ds_part          47331 non-null  string[pyarrow]\n",
      " 16  idx              47331 non-null  int64[pyarrow] \n",
      "dtypes: double[pyarrow](1), int64[pyarrow](6), string[pyarrow](10)\n",
      "memory usage: 65.9 MB\n"
     ]
    }
   ],
   "source": [
    "df.info()"
   ]
  },
  {
   "cell_type": "code",
   "execution_count": 9,
   "metadata": {},
   "outputs": [
    {
     "name": "stdout",
     "output_type": "stream",
     "text": [
      "69099637\n"
     ]
    }
   ],
   "source": [
    "print(df\n",
    " .memory_usage(deep=True)\n",
    " .sum()\n",
    ")"
   ]
  },
  {
   "cell_type": "code",
   "execution_count": 10,
   "metadata": {},
   "outputs": [],
   "source": [
    "def shrink_ints(df):\n",
    "    mapping = {}\n",
    "    for col in df.dtypes[df.dtypes=='int64[pyarrow]'].index:\n",
    "        max_ = df[col].max()\n",
    "        min_ = df[col].min()\n",
    "        if min_ < 0:\n",
    "            continue\n",
    "        if max_ < 255:\n",
    "            mapping[col] = 'uint8[pyarrow]'\n",
    "        elif max_ < 65_535:\n",
    "            mapping[col] = 'uint16[pyarrow]'\n",
    "        elif max_ <  4294967295:\n",
    "            mapping[col] = 'uint32[pyarrow]'\n",
    "    return df.astype(mapping)\n",
    "\n",
    "\n",
    "def clean_housing(df):\n",
    "    return (df\n",
    "     .assign(**df.select_dtypes('string').replace('', 'Missing').astype('category'))\n",
    "     .pipe(shrink_ints)\n",
    "    ) "
   ]
  },
  {
   "cell_type": "code",
   "execution_count": 11,
   "metadata": {},
   "outputs": [],
   "source": [
    "df = clean_housing(df)"
   ]
  },
  {
   "cell_type": "code",
   "execution_count": 12,
   "metadata": {},
   "outputs": [
    {
     "name": "stdout",
     "output_type": "stream",
     "text": [
      "<class 'pandas.core.frame.DataFrame'>\n",
      "RangeIndex: 47331 entries, 0 to 47330\n",
      "Data columns (total 17 columns):\n",
      " #   Column           Non-Null Count  Dtype          \n",
      "---  ------           --------------  -----          \n",
      " 0   tconst           47331 non-null  category       \n",
      " 1   title_type       47331 non-null  category       \n",
      " 2   primary_title    47331 non-null  category       \n",
      " 3   original_title   47331 non-null  category       \n",
      " 4   start_year       47331 non-null  uint16[pyarrow]\n",
      " 5   end_year         47331 non-null  category       \n",
      " 6   runtime_minutes  47331 non-null  category       \n",
      " 7   is_adult         47331 non-null  uint8[pyarrow] \n",
      " 8   genres           47331 non-null  category       \n",
      " 9   average_rating   47329 non-null  double[pyarrow]\n",
      " 10  votes            47329 non-null  uint32[pyarrow]\n",
      " 11  review           47331 non-null  category       \n",
      " 12  rating           47331 non-null  uint8[pyarrow] \n",
      " 13  sp               47331 non-null  category       \n",
      " 14  pos              47331 non-null  uint8[pyarrow] \n",
      " 15  ds_part          47331 non-null  category       \n",
      " 16  idx              47331 non-null  uint16[pyarrow]\n",
      "dtypes: category(10), double[pyarrow](1), uint16[pyarrow](2), uint32[pyarrow](1), uint8[pyarrow](3)\n",
      "memory usage: 62.2 MB\n"
     ]
    }
   ],
   "source": [
    "df.info()"
   ]
  },
  {
   "cell_type": "code",
   "execution_count": 13,
   "metadata": {},
   "outputs": [
    {
     "name": "stdout",
     "output_type": "stream",
     "text": [
      "65213832\n"
     ]
    }
   ],
   "source": [
    "print(df\n",
    " .memory_usage(deep=True)\n",
    " .sum()\n",
    ")"
   ]
  },
  {
   "cell_type": "code",
   "execution_count": 14,
   "metadata": {},
   "outputs": [
    {
     "name": "stdout",
     "output_type": "stream",
     "text": [
      "1.3889123092781912\n"
     ]
    }
   ],
   "source": [
    "print(90_576_294/65_213_832)"
   ]
  },
  {
   "cell_type": "markdown",
   "metadata": {},
   "source": [
    "Pudimos disminuir el uso de memoria casi 1.39 veces, esto nos ayudara a hacer el proceso mas eficiente."
   ]
  },
  {
   "cell_type": "markdown",
   "metadata": {},
   "source": [
    "## Análisis inicial.\n",
    "---\n",
    "Vamos a conocer un poco más nuestro dataset, tendencias, frecuencias, si existe un desbalance en las clases, y demás. "
   ]
  },
  {
   "cell_type": "code",
   "execution_count": 15,
   "metadata": {},
   "outputs": [
    {
     "data": {
      "text/html": [
       "<div>\n",
       "<style scoped>\n",
       "    .dataframe tbody tr th:only-of-type {\n",
       "        vertical-align: middle;\n",
       "    }\n",
       "\n",
       "    .dataframe tbody tr th {\n",
       "        vertical-align: top;\n",
       "    }\n",
       "\n",
       "    .dataframe thead th {\n",
       "        text-align: right;\n",
       "    }\n",
       "</style>\n",
       "<table border=\"1\" class=\"dataframe\">\n",
       "  <thead>\n",
       "    <tr style=\"text-align: right;\">\n",
       "      <th></th>\n",
       "      <th>tconst</th>\n",
       "      <th>title_type</th>\n",
       "      <th>primary_title</th>\n",
       "      <th>original_title</th>\n",
       "      <th>start_year</th>\n",
       "      <th>end_year</th>\n",
       "      <th>runtime_minutes</th>\n",
       "      <th>is_adult</th>\n",
       "      <th>genres</th>\n",
       "      <th>average_rating</th>\n",
       "      <th>votes</th>\n",
       "      <th>review</th>\n",
       "      <th>rating</th>\n",
       "      <th>sp</th>\n",
       "      <th>pos</th>\n",
       "      <th>ds_part</th>\n",
       "      <th>idx</th>\n",
       "    </tr>\n",
       "  </thead>\n",
       "  <tbody>\n",
       "    <tr>\n",
       "      <th>0</th>\n",
       "      <td>tt0068152</td>\n",
       "      <td>movie</td>\n",
       "      <td>$</td>\n",
       "      <td>$</td>\n",
       "      <td>1971</td>\n",
       "      <td>\\N</td>\n",
       "      <td>121</td>\n",
       "      <td>0</td>\n",
       "      <td>Comedy,Crime,Drama</td>\n",
       "      <td>6.3</td>\n",
       "      <td>2218</td>\n",
       "      <td>The pakage implies that Warren Beatty and Gold...</td>\n",
       "      <td>1</td>\n",
       "      <td>neg</td>\n",
       "      <td>0</td>\n",
       "      <td>train</td>\n",
       "      <td>8335</td>\n",
       "    </tr>\n",
       "    <tr>\n",
       "      <th>1</th>\n",
       "      <td>tt0068152</td>\n",
       "      <td>movie</td>\n",
       "      <td>$</td>\n",
       "      <td>$</td>\n",
       "      <td>1971</td>\n",
       "      <td>\\N</td>\n",
       "      <td>121</td>\n",
       "      <td>0</td>\n",
       "      <td>Comedy,Crime,Drama</td>\n",
       "      <td>6.3</td>\n",
       "      <td>2218</td>\n",
       "      <td>How the hell did they get this made?! Presenti...</td>\n",
       "      <td>1</td>\n",
       "      <td>neg</td>\n",
       "      <td>0</td>\n",
       "      <td>train</td>\n",
       "      <td>8336</td>\n",
       "    </tr>\n",
       "    <tr>\n",
       "      <th>2</th>\n",
       "      <td>tt0313150</td>\n",
       "      <td>short</td>\n",
       "      <td>'15'</td>\n",
       "      <td>'15'</td>\n",
       "      <td>2002</td>\n",
       "      <td>\\N</td>\n",
       "      <td>25</td>\n",
       "      <td>0</td>\n",
       "      <td>Comedy,Drama,Short</td>\n",
       "      <td>6.3</td>\n",
       "      <td>184</td>\n",
       "      <td>There is no real story the film seems more lik...</td>\n",
       "      <td>3</td>\n",
       "      <td>neg</td>\n",
       "      <td>0</td>\n",
       "      <td>test</td>\n",
       "      <td>2489</td>\n",
       "    </tr>\n",
       "    <tr>\n",
       "      <th>3</th>\n",
       "      <td>tt0313150</td>\n",
       "      <td>short</td>\n",
       "      <td>'15'</td>\n",
       "      <td>'15'</td>\n",
       "      <td>2002</td>\n",
       "      <td>\\N</td>\n",
       "      <td>25</td>\n",
       "      <td>0</td>\n",
       "      <td>Comedy,Drama,Short</td>\n",
       "      <td>6.3</td>\n",
       "      <td>184</td>\n",
       "      <td>Um .... a serious film about troubled teens in...</td>\n",
       "      <td>7</td>\n",
       "      <td>pos</td>\n",
       "      <td>1</td>\n",
       "      <td>test</td>\n",
       "      <td>9280</td>\n",
       "    </tr>\n",
       "    <tr>\n",
       "      <th>4</th>\n",
       "      <td>tt0313150</td>\n",
       "      <td>short</td>\n",
       "      <td>'15'</td>\n",
       "      <td>'15'</td>\n",
       "      <td>2002</td>\n",
       "      <td>\\N</td>\n",
       "      <td>25</td>\n",
       "      <td>0</td>\n",
       "      <td>Comedy,Drama,Short</td>\n",
       "      <td>6.3</td>\n",
       "      <td>184</td>\n",
       "      <td>I'm totally agree with GarryJohal from Singapo...</td>\n",
       "      <td>9</td>\n",
       "      <td>pos</td>\n",
       "      <td>1</td>\n",
       "      <td>test</td>\n",
       "      <td>9281</td>\n",
       "    </tr>\n",
       "  </tbody>\n",
       "</table>\n",
       "</div>"
      ],
      "text/plain": [
       "      tconst title_type primary_title original_title  start_year end_year  \\\n",
       "0  tt0068152      movie             $              $        1971       \\N   \n",
       "1  tt0068152      movie             $              $        1971       \\N   \n",
       "2  tt0313150      short          '15'           '15'        2002       \\N   \n",
       "3  tt0313150      short          '15'           '15'        2002       \\N   \n",
       "4  tt0313150      short          '15'           '15'        2002       \\N   \n",
       "\n",
       "  runtime_minutes  is_adult              genres  average_rating  votes  \\\n",
       "0             121         0  Comedy,Crime,Drama             6.3   2218   \n",
       "1             121         0  Comedy,Crime,Drama             6.3   2218   \n",
       "2              25         0  Comedy,Drama,Short             6.3    184   \n",
       "3              25         0  Comedy,Drama,Short             6.3    184   \n",
       "4              25         0  Comedy,Drama,Short             6.3    184   \n",
       "\n",
       "                                              review  rating   sp  pos  \\\n",
       "0  The pakage implies that Warren Beatty and Gold...       1  neg    0   \n",
       "1  How the hell did they get this made?! Presenti...       1  neg    0   \n",
       "2  There is no real story the film seems more lik...       3  neg    0   \n",
       "3  Um .... a serious film about troubled teens in...       7  pos    1   \n",
       "4  I'm totally agree with GarryJohal from Singapo...       9  pos    1   \n",
       "\n",
       "  ds_part   idx  \n",
       "0   train  8335  \n",
       "1   train  8336  \n",
       "2    test  2489  \n",
       "3    test  9280  \n",
       "4    test  9281  "
      ]
     },
     "execution_count": 15,
     "metadata": {},
     "output_type": "execute_result"
    }
   ],
   "source": [
    "df.head()"
   ]
  },
  {
   "cell_type": "code",
   "execution_count": 16,
   "metadata": {},
   "outputs": [
    {
     "data": {
      "text/html": [
       "<div>\n",
       "<style scoped>\n",
       "    .dataframe tbody tr th:only-of-type {\n",
       "        vertical-align: middle;\n",
       "    }\n",
       "\n",
       "    .dataframe tbody tr th {\n",
       "        vertical-align: top;\n",
       "    }\n",
       "\n",
       "    .dataframe thead th {\n",
       "        text-align: right;\n",
       "    }\n",
       "</style>\n",
       "<table border=\"1\" class=\"dataframe\">\n",
       "  <thead>\n",
       "    <tr style=\"text-align: right;\">\n",
       "      <th></th>\n",
       "      <th>tconst</th>\n",
       "      <th>title_type</th>\n",
       "      <th>primary_title</th>\n",
       "      <th>original_title</th>\n",
       "      <th>start_year</th>\n",
       "      <th>end_year</th>\n",
       "      <th>runtime_minutes</th>\n",
       "      <th>is_adult</th>\n",
       "      <th>genres</th>\n",
       "      <th>average_rating</th>\n",
       "      <th>votes</th>\n",
       "      <th>review</th>\n",
       "      <th>rating</th>\n",
       "      <th>sp</th>\n",
       "      <th>pos</th>\n",
       "      <th>ds_part</th>\n",
       "      <th>idx</th>\n",
       "    </tr>\n",
       "  </thead>\n",
       "  <tbody>\n",
       "    <tr>\n",
       "      <th>22280</th>\n",
       "      <td>tt0192317</td>\n",
       "      <td>movie</td>\n",
       "      <td>Mila Ass Painting</td>\n",
       "      <td>Mila Ass Painting</td>\n",
       "      <td>1998</td>\n",
       "      <td>\\N</td>\n",
       "      <td>\\N</td>\n",
       "      <td>0</td>\n",
       "      <td>\\N</td>\n",
       "      <td>&lt;NA&gt;</td>\n",
       "      <td>&lt;NA&gt;</td>\n",
       "      <td>This is a truly great film, with excellent dir...</td>\n",
       "      <td>9</td>\n",
       "      <td>pos</td>\n",
       "      <td>1</td>\n",
       "      <td>test</td>\n",
       "      <td>3231</td>\n",
       "    </tr>\n",
       "    <tr>\n",
       "      <th>22281</th>\n",
       "      <td>tt0192317</td>\n",
       "      <td>movie</td>\n",
       "      <td>Mila Ass Painting</td>\n",
       "      <td>Mila Ass Painting</td>\n",
       "      <td>1998</td>\n",
       "      <td>\\N</td>\n",
       "      <td>\\N</td>\n",
       "      <td>0</td>\n",
       "      <td>\\N</td>\n",
       "      <td>&lt;NA&gt;</td>\n",
       "      <td>&lt;NA&gt;</td>\n",
       "      <td>A film is beyond all expectations, an excellen...</td>\n",
       "      <td>10</td>\n",
       "      <td>pos</td>\n",
       "      <td>1</td>\n",
       "      <td>test</td>\n",
       "      <td>3232</td>\n",
       "    </tr>\n",
       "  </tbody>\n",
       "</table>\n",
       "</div>"
      ],
      "text/plain": [
       "          tconst title_type      primary_title     original_title  start_year  \\\n",
       "22280  tt0192317      movie  Mila Ass Painting  Mila Ass Painting        1998   \n",
       "22281  tt0192317      movie  Mila Ass Painting  Mila Ass Painting        1998   \n",
       "\n",
       "      end_year runtime_minutes  is_adult genres  average_rating  votes  \\\n",
       "22280       \\N              \\N         0     \\N            <NA>   <NA>   \n",
       "22281       \\N              \\N         0     \\N            <NA>   <NA>   \n",
       "\n",
       "                                                  review  rating   sp  pos  \\\n",
       "22280  This is a truly great film, with excellent dir...       9  pos    1   \n",
       "22281  A film is beyond all expectations, an excellen...      10  pos    1   \n",
       "\n",
       "      ds_part   idx  \n",
       "22280    test  3231  \n",
       "22281    test  3232  "
      ]
     },
     "execution_count": 16,
     "metadata": {},
     "output_type": "execute_result"
    }
   ],
   "source": [
    "df.query('`votes`.isna()')"
   ]
  },
  {
   "cell_type": "code",
   "execution_count": 17,
   "metadata": {},
   "outputs": [
    {
     "data": {
      "text/html": [
       "<div>\n",
       "<style scoped>\n",
       "    .dataframe tbody tr th:only-of-type {\n",
       "        vertical-align: middle;\n",
       "    }\n",
       "\n",
       "    .dataframe tbody tr th {\n",
       "        vertical-align: top;\n",
       "    }\n",
       "\n",
       "    .dataframe thead th {\n",
       "        text-align: right;\n",
       "    }\n",
       "</style>\n",
       "<table border=\"1\" class=\"dataframe\">\n",
       "  <thead>\n",
       "    <tr style=\"text-align: right;\">\n",
       "      <th></th>\n",
       "      <th>count</th>\n",
       "      <th>unique</th>\n",
       "      <th>top</th>\n",
       "      <th>freq</th>\n",
       "    </tr>\n",
       "  </thead>\n",
       "  <tbody>\n",
       "    <tr>\n",
       "      <th>tconst</th>\n",
       "      <td>47331</td>\n",
       "      <td>6648</td>\n",
       "      <td>tt0171580</td>\n",
       "      <td>30</td>\n",
       "    </tr>\n",
       "    <tr>\n",
       "      <th>title_type</th>\n",
       "      <td>47331</td>\n",
       "      <td>10</td>\n",
       "      <td>movie</td>\n",
       "      <td>36861</td>\n",
       "    </tr>\n",
       "    <tr>\n",
       "      <th>primary_title</th>\n",
       "      <td>47331</td>\n",
       "      <td>6555</td>\n",
       "      <td>The Sentinel</td>\n",
       "      <td>60</td>\n",
       "    </tr>\n",
       "    <tr>\n",
       "      <th>original_title</th>\n",
       "      <td>47331</td>\n",
       "      <td>6562</td>\n",
       "      <td>The Sentinel</td>\n",
       "      <td>60</td>\n",
       "    </tr>\n",
       "    <tr>\n",
       "      <th>end_year</th>\n",
       "      <td>47331</td>\n",
       "      <td>60</td>\n",
       "      <td>\\N</td>\n",
       "      <td>45052</td>\n",
       "    </tr>\n",
       "    <tr>\n",
       "      <th>runtime_minutes</th>\n",
       "      <td>47331</td>\n",
       "      <td>249</td>\n",
       "      <td>90</td>\n",
       "      <td>2442</td>\n",
       "    </tr>\n",
       "    <tr>\n",
       "      <th>genres</th>\n",
       "      <td>47331</td>\n",
       "      <td>585</td>\n",
       "      <td>Drama</td>\n",
       "      <td>3392</td>\n",
       "    </tr>\n",
       "    <tr>\n",
       "      <th>review</th>\n",
       "      <td>47331</td>\n",
       "      <td>47240</td>\n",
       "      <td>Loved today's show!!! It was a variety and not...</td>\n",
       "      <td>5</td>\n",
       "    </tr>\n",
       "    <tr>\n",
       "      <th>sp</th>\n",
       "      <td>47331</td>\n",
       "      <td>2</td>\n",
       "      <td>neg</td>\n",
       "      <td>23715</td>\n",
       "    </tr>\n",
       "    <tr>\n",
       "      <th>ds_part</th>\n",
       "      <td>47331</td>\n",
       "      <td>2</td>\n",
       "      <td>train</td>\n",
       "      <td>23796</td>\n",
       "    </tr>\n",
       "  </tbody>\n",
       "</table>\n",
       "</div>"
      ],
      "text/plain": [
       "                 count unique  \\\n",
       "tconst           47331   6648   \n",
       "title_type       47331     10   \n",
       "primary_title    47331   6555   \n",
       "original_title   47331   6562   \n",
       "end_year         47331     60   \n",
       "runtime_minutes  47331    249   \n",
       "genres           47331    585   \n",
       "review           47331  47240   \n",
       "sp               47331      2   \n",
       "ds_part          47331      2   \n",
       "\n",
       "                                                               top   freq  \n",
       "tconst                                                   tt0171580     30  \n",
       "title_type                                                   movie  36861  \n",
       "primary_title                                         The Sentinel     60  \n",
       "original_title                                        The Sentinel     60  \n",
       "end_year                                                        \\N  45052  \n",
       "runtime_minutes                                                 90   2442  \n",
       "genres                                                       Drama   3392  \n",
       "review           Loved today's show!!! It was a variety and not...      5  \n",
       "sp                                                             neg  23715  \n",
       "ds_part                                                      train  23796  "
      ]
     },
     "execution_count": 17,
     "metadata": {},
     "output_type": "execute_result"
    }
   ],
   "source": [
    "df.select_dtypes('category').describe().T"
   ]
  },
  {
   "cell_type": "code",
   "execution_count": 18,
   "metadata": {},
   "outputs": [
    {
     "data": {
      "text/html": [
       "<div>\n",
       "<style scoped>\n",
       "    .dataframe tbody tr th:only-of-type {\n",
       "        vertical-align: middle;\n",
       "    }\n",
       "\n",
       "    .dataframe tbody tr th {\n",
       "        vertical-align: top;\n",
       "    }\n",
       "\n",
       "    .dataframe thead th {\n",
       "        text-align: right;\n",
       "    }\n",
       "</style>\n",
       "<table border=\"1\" class=\"dataframe\">\n",
       "  <thead>\n",
       "    <tr style=\"text-align: right;\">\n",
       "      <th></th>\n",
       "      <th>count</th>\n",
       "      <th>mean</th>\n",
       "      <th>std</th>\n",
       "      <th>min</th>\n",
       "      <th>25%</th>\n",
       "      <th>50%</th>\n",
       "      <th>75%</th>\n",
       "      <th>max</th>\n",
       "    </tr>\n",
       "  </thead>\n",
       "  <tbody>\n",
       "    <tr>\n",
       "      <th>start_year</th>\n",
       "      <td>47331.0</td>\n",
       "      <td>1989.631235</td>\n",
       "      <td>19.600364</td>\n",
       "      <td>1894.0</td>\n",
       "      <td>1982.0</td>\n",
       "      <td>1998.0</td>\n",
       "      <td>2004.0</td>\n",
       "      <td>2010.0</td>\n",
       "    </tr>\n",
       "    <tr>\n",
       "      <th>is_adult</th>\n",
       "      <td>47331.0</td>\n",
       "      <td>0.001732</td>\n",
       "      <td>0.041587</td>\n",
       "      <td>0.0</td>\n",
       "      <td>0.0</td>\n",
       "      <td>0.0</td>\n",
       "      <td>0.0</td>\n",
       "      <td>1.0</td>\n",
       "    </tr>\n",
       "    <tr>\n",
       "      <th>average_rating</th>\n",
       "      <td>47329.0</td>\n",
       "      <td>5.998278</td>\n",
       "      <td>1.494289</td>\n",
       "      <td>1.4</td>\n",
       "      <td>5.1</td>\n",
       "      <td>6.3</td>\n",
       "      <td>7.1</td>\n",
       "      <td>9.7</td>\n",
       "    </tr>\n",
       "    <tr>\n",
       "      <th>votes</th>\n",
       "      <td>47329.0</td>\n",
       "      <td>25562.917323</td>\n",
       "      <td>83670.039163</td>\n",
       "      <td>9.0</td>\n",
       "      <td>827.0</td>\n",
       "      <td>3197.0</td>\n",
       "      <td>13974.0</td>\n",
       "      <td>1739448.0</td>\n",
       "    </tr>\n",
       "    <tr>\n",
       "      <th>rating</th>\n",
       "      <td>47331.0</td>\n",
       "      <td>5.484608</td>\n",
       "      <td>3.473109</td>\n",
       "      <td>1.0</td>\n",
       "      <td>2.0</td>\n",
       "      <td>4.0</td>\n",
       "      <td>9.0</td>\n",
       "      <td>10.0</td>\n",
       "    </tr>\n",
       "    <tr>\n",
       "      <th>pos</th>\n",
       "      <td>47331.0</td>\n",
       "      <td>0.498954</td>\n",
       "      <td>0.500004</td>\n",
       "      <td>0.0</td>\n",
       "      <td>0.0</td>\n",
       "      <td>0.0</td>\n",
       "      <td>1.0</td>\n",
       "      <td>1.0</td>\n",
       "    </tr>\n",
       "    <tr>\n",
       "      <th>idx</th>\n",
       "      <td>47331.0</td>\n",
       "      <td>6279.697999</td>\n",
       "      <td>3605.702545</td>\n",
       "      <td>0.0</td>\n",
       "      <td>3162.0</td>\n",
       "      <td>6299.0</td>\n",
       "      <td>9412.0</td>\n",
       "      <td>12499.0</td>\n",
       "    </tr>\n",
       "  </tbody>\n",
       "</table>\n",
       "</div>"
      ],
      "text/plain": [
       "                  count          mean           std     min     25%     50%  \\\n",
       "start_year      47331.0   1989.631235     19.600364  1894.0  1982.0  1998.0   \n",
       "is_adult        47331.0      0.001732      0.041587     0.0     0.0     0.0   \n",
       "average_rating  47329.0      5.998278      1.494289     1.4     5.1     6.3   \n",
       "votes           47329.0  25562.917323  83670.039163     9.0   827.0  3197.0   \n",
       "rating          47331.0      5.484608      3.473109     1.0     2.0     4.0   \n",
       "pos             47331.0      0.498954      0.500004     0.0     0.0     0.0   \n",
       "idx             47331.0   6279.697999   3605.702545     0.0  3162.0  6299.0   \n",
       "\n",
       "                    75%        max  \n",
       "start_year       2004.0     2010.0  \n",
       "is_adult            0.0        1.0  \n",
       "average_rating      7.1        9.7  \n",
       "votes           13974.0  1739448.0  \n",
       "rating              9.0       10.0  \n",
       "pos                 1.0        1.0  \n",
       "idx              9412.0    12499.0  "
      ]
     },
     "execution_count": 18,
     "metadata": {},
     "output_type": "execute_result"
    }
   ],
   "source": [
    "df.describe().T"
   ]
  },
  {
   "cell_type": "code",
   "execution_count": 19,
   "metadata": {},
   "outputs": [
    {
     "data": {
      "image/png": "[encoded data removed]",
      "text/plain": [
       "<Figure size 1600x800 with 2 Axes>"
      ]
     },
     "metadata": {},
     "output_type": "display_data"
    }
   ],
   "source": [
    "fig, axs = plt.subplots(2, 1, figsize=(16, 8))\n",
    "\n",
    "ax = axs[0]\n",
    "\n",
    "dft1 = df['start_year'].value_counts().sort_index()\n",
    "dft1 = dft1.reindex(index=np.arange(dft1.index.min(), max(dft1.index.max(), 2012))).fillna(0)\n",
    "\n",
    "dft1.plot(kind='bar', ax=ax)\n",
    "ax.set_title('Número de películas a lo largo de los años')\n",
    "\n",
    "ax = axs[1]\n",
    "\n",
    "dft2 = df.groupby(['start_year', 'pos'])['pos'].count().unstack()\n",
    "dft2 = dft2.reindex(index=np.arange(dft2.index.min(), max(dft2.index.max(), 2012))).fillna(0)\n",
    "\n",
    "dft2.plot(kind='bar', stacked=True, ax=ax)\n",
    "ax.set_title('Número de reseñas a lo largo de los años')\n",
    "\n",
    "fig.tight_layout()"
   ]
  },
  {
   "cell_type": "code",
   "execution_count": 20,
   "metadata": {},
   "outputs": [
    {
     "name": "stderr",
     "output_type": "stream",
     "text": [
      "C:\\Users\\luisP\\AppData\\Local\\Temp\\ipykernel_32276\\2199187402.py:4: FutureWarning: The default of observed=False is deprecated and will be changed to True in a future version of pandas. Pass observed=False to retain current behavior or observed=True to adopt the future default and silence this warning.\n",
      "  dft = df.groupby('tconst')['review'].count() \\\n",
      "C:\\Users\\luisP\\AppData\\Local\\Temp\\ipykernel_32276\\2199187402.py:11: FutureWarning: The default of observed=False is deprecated and will be changed to True in a future version of pandas. Pass observed=False to retain current behavior or observed=True to adopt the future default and silence this warning.\n",
      "  dft = df.groupby('tconst')['review'].count()\n"
     ]
    },
    {
     "data": {
      "image/png": "[encoded data removed]",
      "text/plain": [
       "<Figure size 1600x500 with 2 Axes>"
      ]
     },
     "metadata": {},
     "output_type": "display_data"
    }
   ],
   "source": [
    "fig, axs = plt.subplots(1, 2, figsize=(16, 5))\n",
    "\n",
    "ax = axs[0]\n",
    "dft = df.groupby('tconst')['review'].count() \\\n",
    "    .value_counts() \\\n",
    "    .sort_index()\n",
    "dft.plot.bar(ax=ax)\n",
    "ax.set_title('Gráfico de barras de #Reseñas por película')\n",
    "\n",
    "ax = axs[1]\n",
    "dft = df.groupby('tconst')['review'].count()\n",
    "sns.kdeplot(dft, ax=ax)\n",
    "ax.set_title('Histograma de #Reseñas por película')\n",
    "\n",
    "fig.tight_layout()"
   ]
  },
  {
   "cell_type": "code",
   "execution_count": 21,
   "metadata": {},
   "outputs": [
    {
     "name": "stdout",
     "output_type": "stream",
     "text": [
      "pos\n",
      "0    23715\n",
      "1    23616\n",
      "Name: count, dtype: int64[pyarrow]\n",
      "pos\n",
      "0    0.501046\n",
      "1    0.498954\n",
      "Name: proportion, dtype: double[pyarrow]\n"
     ]
    }
   ],
   "source": [
    "print(df['pos'].value_counts())\n",
    "print(df['pos'].value_counts(normalize=True))"
   ]
  },
  {
   "cell_type": "markdown",
   "metadata": {},
   "source": [
    "Vemos que no existe un desbalance en las clases."
   ]
  },
  {
   "cell_type": "markdown",
   "metadata": {},
   "source": [
    "## Preprocesamiento de datos para el modelado.\n",
    "---\n",
    "En este paso vamos a limpiar nuestro dataset y dejarlo listo para el desarrollo de los modelos."
   ]
  },
  {
   "cell_type": "code",
   "execution_count": 22,
   "metadata": {},
   "outputs": [],
   "source": [
    "df = df[['review', 'pos']]\n",
    "\n",
    "corpus = df['review']"
   ]
  },
  {
   "cell_type": "code",
   "execution_count": 23,
   "metadata": {},
   "outputs": [
    {
     "data": {
      "text/plain": [
       "<spacy.lang.en.English at 0x1b3c382f560>"
      ]
     },
     "execution_count": 23,
     "metadata": {},
     "output_type": "execute_result"
    }
   ],
   "source": [
    "nlp = spacy.load('en_core_web_sm', disable=['parser', 'ner'])\n",
    "nlp"
   ]
  },
  {
   "cell_type": "code",
   "execution_count": 24,
   "metadata": {},
   "outputs": [],
   "source": [
    "def clear_text(text):\n",
    "    \n",
    "    pattern = r\"[^a-zA-Z']\"\n",
    "    text = re.sub(pattern, \" \", text)\n",
    "    text = text.split()\n",
    "    text = \" \".join(text)\n",
    "\n",
    "    return text\n",
    "\n",
    "def lemmatize(text):\n",
    "\n",
    "    doc = nlp(text.lower())\n",
    "    \n",
    "    lemmas = []\n",
    "    for token in doc:\n",
    "        lemmas.append(token.lemma_)\n",
    "        \n",
    "    return ' '.join(lemmas)\n",
    "\n"
   ]
  },
  {
   "cell_type": "code",
   "execution_count": null,
   "metadata": {},
   "outputs": [],
   "source": [
    "reviews = []\n",
    "for i in range(len(df)):\n",
    "    review = lemmatize(clear_text(corpus[i]))\n",
    "    reviews.append(review)"
   ]
  },
  {
   "cell_type": "code",
   "execution_count": 27,
   "metadata": {},
   "outputs": [
    {
     "data": {
      "text/html": [
       "<div>\n",
       "<style scoped>\n",
       "    .dataframe tbody tr th:only-of-type {\n",
       "        vertical-align: middle;\n",
       "    }\n",
       "\n",
       "    .dataframe tbody tr th {\n",
       "        vertical-align: top;\n",
       "    }\n",
       "\n",
       "    .dataframe thead th {\n",
       "        text-align: right;\n",
       "    }\n",
       "</style>\n",
       "<table border=\"1\" class=\"dataframe\">\n",
       "  <thead>\n",
       "    <tr style=\"text-align: right;\">\n",
       "      <th></th>\n",
       "      <th>review</th>\n",
       "      <th>pos</th>\n",
       "      <th>review_lemm</th>\n",
       "    </tr>\n",
       "  </thead>\n",
       "  <tbody>\n",
       "    <tr>\n",
       "      <th>0</th>\n",
       "      <td>The pakage implies that Warren Beatty and Gold...</td>\n",
       "      <td>0</td>\n",
       "      <td>the pakage imply that warren beatty and goldie...</td>\n",
       "    </tr>\n",
       "    <tr>\n",
       "      <th>1</th>\n",
       "      <td>How the hell did they get this made?! Presenti...</td>\n",
       "      <td>0</td>\n",
       "      <td>how the hell do they get this make present its...</td>\n",
       "    </tr>\n",
       "    <tr>\n",
       "      <th>2</th>\n",
       "      <td>There is no real story the film seems more lik...</td>\n",
       "      <td>0</td>\n",
       "      <td>there be no real story the film seem more like...</td>\n",
       "    </tr>\n",
       "    <tr>\n",
       "      <th>3</th>\n",
       "      <td>Um .... a serious film about troubled teens in...</td>\n",
       "      <td>1</td>\n",
       "      <td>um a serious film about troubled teen in singa...</td>\n",
       "    </tr>\n",
       "    <tr>\n",
       "      <th>4</th>\n",
       "      <td>I'm totally agree with GarryJohal from Singapo...</td>\n",
       "      <td>1</td>\n",
       "      <td>I be totally agree with garryjohal from singap...</td>\n",
       "    </tr>\n",
       "  </tbody>\n",
       "</table>\n",
       "</div>"
      ],
      "text/plain": [
       "                                              review  pos  \\\n",
       "0  The pakage implies that Warren Beatty and Gold...    0   \n",
       "1  How the hell did they get this made?! Presenti...    0   \n",
       "2  There is no real story the film seems more lik...    0   \n",
       "3  Um .... a serious film about troubled teens in...    1   \n",
       "4  I'm totally agree with GarryJohal from Singapo...    1   \n",
       "\n",
       "                                         review_lemm  \n",
       "0  the pakage imply that warren beatty and goldie...  \n",
       "1  how the hell do they get this make present its...  \n",
       "2  there be no real story the film seem more like...  \n",
       "3  um a serious film about troubled teen in singa...  \n",
       "4  I be totally agree with garryjohal from singap...  "
      ]
     },
     "execution_count": 27,
     "metadata": {},
     "output_type": "execute_result"
    }
   ],
   "source": [
    "df['review_lemm'] = reviews\n",
    "\n",
    "df.head()"
   ]
  },
  {
   "cell_type": "code",
   "execution_count": 28,
   "metadata": {},
   "outputs": [
    {
     "data": {
      "text/html": [
       "<div>\n",
       "<style scoped>\n",
       "    .dataframe tbody tr th:only-of-type {\n",
       "        vertical-align: middle;\n",
       "    }\n",
       "\n",
       "    .dataframe tbody tr th {\n",
       "        vertical-align: top;\n",
       "    }\n",
       "\n",
       "    .dataframe thead th {\n",
       "        text-align: right;\n",
       "    }\n",
       "</style>\n",
       "<table border=\"1\" class=\"dataframe\">\n",
       "  <thead>\n",
       "    <tr style=\"text-align: right;\">\n",
       "      <th></th>\n",
       "      <th>review</th>\n",
       "      <th>pos</th>\n",
       "      <th>review_lemm</th>\n",
       "    </tr>\n",
       "  </thead>\n",
       "  <tbody>\n",
       "    <tr>\n",
       "      <th>47326</th>\n",
       "      <td>This is another of my favorite Columbos. It sp...</td>\n",
       "      <td>1</td>\n",
       "      <td>this be another of my favorite columbo it spor...</td>\n",
       "    </tr>\n",
       "    <tr>\n",
       "      <th>47327</th>\n",
       "      <td>Talk about being boring! I got this expecting ...</td>\n",
       "      <td>0</td>\n",
       "      <td>talk about be bore I get this expect a fascina...</td>\n",
       "    </tr>\n",
       "    <tr>\n",
       "      <th>47328</th>\n",
       "      <td>I never thought I'd say this about a biopic, b...</td>\n",
       "      <td>1</td>\n",
       "      <td>I never think I would say this about a biopic ...</td>\n",
       "    </tr>\n",
       "    <tr>\n",
       "      <th>47329</th>\n",
       "      <td>Spirit and Chaos is an artistic biopic of Miya...</td>\n",
       "      <td>1</td>\n",
       "      <td>spirit and chaos be an artistic biopic of miya...</td>\n",
       "    </tr>\n",
       "    <tr>\n",
       "      <th>47330</th>\n",
       "      <td>I'll make this brief. This was a joy to watch....</td>\n",
       "      <td>1</td>\n",
       "      <td>I will make this brief this be a joy to watch ...</td>\n",
       "    </tr>\n",
       "  </tbody>\n",
       "</table>\n",
       "</div>"
      ],
      "text/plain": [
       "                                                  review  pos  \\\n",
       "47326  This is another of my favorite Columbos. It sp...    1   \n",
       "47327  Talk about being boring! I got this expecting ...    0   \n",
       "47328  I never thought I'd say this about a biopic, b...    1   \n",
       "47329  Spirit and Chaos is an artistic biopic of Miya...    1   \n",
       "47330  I'll make this brief. This was a joy to watch....    1   \n",
       "\n",
       "                                             review_lemm  \n",
       "47326  this be another of my favorite columbo it spor...  \n",
       "47327  talk about be bore I get this expect a fascina...  \n",
       "47328  I never think I would say this about a biopic ...  \n",
       "47329  spirit and chaos be an artistic biopic of miya...  \n",
       "47330  I will make this brief this be a joy to watch ...  "
      ]
     },
     "execution_count": 28,
     "metadata": {},
     "output_type": "execute_result"
    }
   ],
   "source": [
    "df.tail()"
   ]
  },
  {
   "cell_type": "code",
   "execution_count": 29,
   "metadata": {},
   "outputs": [
    {
     "data": {
      "text/plain": [
       "((23665, 2), (23666, 2))"
      ]
     },
     "execution_count": 29,
     "metadata": {},
     "output_type": "execute_result"
    }
   ],
   "source": [
    "df = df.drop('review', axis=1)\n",
    "train, test = train_test_split(df, test_size=0.5, random_state=12345)\n",
    "\n",
    "train.shape, test.shape"
   ]
  },
  {
   "cell_type": "code",
   "execution_count": 30,
   "metadata": {},
   "outputs": [],
   "source": [
    "train_corpus = train['review_lemm']\n",
    "test_corpus = test['review_lemm']"
   ]
  },
  {
   "cell_type": "code",
   "execution_count": 94,
   "metadata": {},
   "outputs": [],
   "source": [
    "stop_words = set(nltk_stopwords.words('english'))\n",
    "\n",
    "vectorizer = TfidfVectorizer(stop_words='english')\n",
    "tf_idf = vectorizer.fit_transform(train_corpus)"
   ]
  },
  {
   "cell_type": "code",
   "execution_count": 32,
   "metadata": {},
   "outputs": [
    {
     "data": {
      "text/plain": [
       "((23665, 60601), (23666, 60601))"
      ]
     },
     "execution_count": 32,
     "metadata": {},
     "output_type": "execute_result"
    }
   ],
   "source": [
    "train_features = tf_idf\n",
    "train_target = train['pos']\n",
    "\n",
    "test_features = vectorizer.transform(test_corpus)\n",
    "test_target = test['pos']\n",
    "\n",
    "\n",
    "train_features.shape, test_features.shape"
   ]
  },
  {
   "cell_type": "code",
   "execution_count": 33,
   "metadata": {},
   "outputs": [],
   "source": [
    "np.savez_compressed('features_2.npz', train_features=train_features, test_features=test_features)"
   ]
  },
  {
   "cell_type": "markdown",
   "metadata": {},
   "source": [
    "## Entrenamiento de modelos."
   ]
  },
  {
   "cell_type": "code",
   "execution_count": 34,
   "metadata": {},
   "outputs": [],
   "source": [
    "def metrics(model, features, target):\n",
    "    predictions = model.predict(features)\n",
    "\n",
    "    probabilities = model.predict_proba(features)\n",
    "    probabilities_one = probabilities[:, 1]\n",
    "\n",
    "    auc_roc = roc_auc_score(target, probabilities_one)\n",
    "\n",
    "    f1 = f1_score(target, predictions)\n",
    "\n",
    "    final_score = cross_val_score(model, features, target, cv=5).mean()\n",
    "\n",
    "    confusion_matriz = confusion_matrix(target.tolist(), predictions.tolist())\n",
    "\n",
    "    return auc_roc, f1, final_score, confusion_matriz"
   ]
  },
  {
   "cell_type": "markdown",
   "metadata": {},
   "source": [
    "### Modelo 1 - Regresión logística. "
   ]
  },
  {
   "cell_type": "code",
   "execution_count": 38,
   "metadata": {},
   "outputs": [
    {
     "name": "stdout",
     "output_type": "stream",
     "text": [
      "Área Bajo la Curva ROC: 0.9798613539870273\n",
      "F1 score: 0.9302228178924443\n",
      "Puntuación media de la evaluación del modelo: 0.8785970843017112\n",
      "Matriz de confusion:\n",
      "[[10894   980]\n",
      " [  686 11105]]\n",
      "CPU times: total: 1.33 s\n",
      "Wall time: 2.41 s\n"
     ]
    }
   ],
   "source": [
    "%%time\n",
    "model_1 = LogisticRegression(random_state=54321, solver='liblinear').fit(train_features, train_target)\n",
    "\n",
    "auc_roc, f1, final_score, confusion_matriz = metrics(model=model_1, features=train_features, target=train_target)\n",
    "\n",
    "print('Área Bajo la Curva ROC:', auc_roc)\n",
    "print('F1 score:', f1)\n",
    "print('Puntuación media de la evaluación del modelo:', final_score)\n",
    "print('Matriz de confusion:')\n",
    "print(confusion_matriz)"
   ]
  },
  {
   "cell_type": "code",
   "execution_count": 37,
   "metadata": {},
   "outputs": [
    {
     "name": "stdout",
     "output_type": "stream",
     "text": [
      "Área Bajo la Curva ROC: 0.9521614028584882\n",
      "F1 score: 0.8844433399602386\n",
      "Puntuación media de la evaluación del modelo: 0.8804615027156538\n",
      "Matriz de confusion:\n",
      "[[10199  1642]\n",
      " [ 1148 10677]]\n"
     ]
    }
   ],
   "source": [
    "auc_roc, f1, final_score, confusion_matriz = metrics(model=model_1, features=test_features, target=test_target)\n",
    "\n",
    "print('Área Bajo la Curva ROC:', auc_roc)\n",
    "print('F1 score:', f1)\n",
    "print('Puntuación media de la evaluación del modelo:', final_score)\n",
    "print('Matriz de confusion:')\n",
    "print(confusion_matriz)"
   ]
  },
  {
   "cell_type": "markdown",
   "metadata": {},
   "source": [
    "Este modelo me sorprendio bastante, usando diferentes metricas nos muestra un buen rendimiento tanto con el dataset de entrenamiento como con el de prueba. "
   ]
  },
  {
   "cell_type": "markdown",
   "metadata": {},
   "source": [
    "### Modelo 2 - CatBoost."
   ]
  },
  {
   "cell_type": "code",
   "execution_count": 60,
   "metadata": {},
   "outputs": [
    {
     "name": "stdout",
     "output_type": "stream",
     "text": [
      "Learning rate set to 0.5\n",
      "0:\tlearn: 0.5863382\ttotal: 705ms\tremaining: 6.34s\n",
      "9:\tlearn: 0.4379443\ttotal: 6.66s\tremaining: 0us\n",
      "Learning rate set to 0.5\n",
      "0:\tlearn: 0.5980471\ttotal: 506ms\tremaining: 4.56s\n",
      "1:\tlearn: 0.5489688\ttotal: 1.03s\tremaining: 4.11s\n",
      "2:\tlearn: 0.5205630\ttotal: 1.55s\tremaining: 3.62s\n",
      "3:\tlearn: 0.5008114\ttotal: 2.06s\tremaining: 3.09s\n",
      "4:\tlearn: 0.4858559\ttotal: 2.56s\tremaining: 2.56s\n",
      "5:\tlearn: 0.4733718\ttotal: 3.07s\tremaining: 2.05s\n",
      "6:\tlearn: 0.4629725\ttotal: 3.59s\tremaining: 1.54s\n",
      "7:\tlearn: 0.4522969\ttotal: 4.1s\tremaining: 1.02s\n",
      "8:\tlearn: 0.4428161\ttotal: 4.59s\tremaining: 510ms\n",
      "9:\tlearn: 0.4351535\ttotal: 5.09s\tremaining: 0us\n",
      "Learning rate set to 0.5\n",
      "0:\tlearn: 0.5915252\ttotal: 491ms\tremaining: 4.42s\n",
      "1:\tlearn: 0.5470514\ttotal: 968ms\tremaining: 3.87s\n",
      "2:\tlearn: 0.5210719\ttotal: 1.45s\tremaining: 3.38s\n",
      "3:\tlearn: 0.5029379\ttotal: 1.93s\tremaining: 2.9s\n",
      "4:\tlearn: 0.4880802\ttotal: 2.43s\tremaining: 2.43s\n",
      "5:\tlearn: 0.4729552\ttotal: 2.93s\tremaining: 1.95s\n",
      "6:\tlearn: 0.4627651\ttotal: 3.46s\tremaining: 1.48s\n",
      "7:\tlearn: 0.4538371\ttotal: 3.98s\tremaining: 994ms\n",
      "8:\tlearn: 0.4436871\ttotal: 4.49s\tremaining: 499ms\n",
      "9:\tlearn: 0.4354795\ttotal: 5s\tremaining: 0us\n",
      "Learning rate set to 0.5\n",
      "0:\tlearn: 0.5902621\ttotal: 514ms\tremaining: 4.62s\n",
      "1:\tlearn: 0.5477577\ttotal: 1.02s\tremaining: 4.08s\n",
      "2:\tlearn: 0.5201640\ttotal: 1.52s\tremaining: 3.54s\n",
      "3:\tlearn: 0.5018366\ttotal: 2.02s\tremaining: 3.04s\n",
      "4:\tlearn: 0.4872504\ttotal: 2.54s\tremaining: 2.54s\n",
      "5:\tlearn: 0.4727758\ttotal: 3.04s\tremaining: 2.03s\n",
      "6:\tlearn: 0.4640375\ttotal: 3.57s\tremaining: 1.53s\n",
      "7:\tlearn: 0.4543237\ttotal: 4.13s\tremaining: 1.03s\n",
      "8:\tlearn: 0.4457479\ttotal: 4.66s\tremaining: 518ms\n",
      "9:\tlearn: 0.4393263\ttotal: 5.19s\tremaining: 0us\n",
      "Learning rate set to 0.5\n",
      "0:\tlearn: 0.5915991\ttotal: 516ms\tremaining: 4.65s\n",
      "1:\tlearn: 0.5450293\ttotal: 1.03s\tremaining: 4.14s\n",
      "2:\tlearn: 0.5205174\ttotal: 1.56s\tremaining: 3.65s\n",
      "3:\tlearn: 0.5031508\ttotal: 2.12s\tremaining: 3.19s\n",
      "4:\tlearn: 0.4875540\ttotal: 2.68s\tremaining: 2.68s\n",
      "5:\tlearn: 0.4704378\ttotal: 3.21s\tremaining: 2.14s\n",
      "6:\tlearn: 0.4584538\ttotal: 3.74s\tremaining: 1.6s\n",
      "7:\tlearn: 0.4488942\ttotal: 4.27s\tremaining: 1.07s\n",
      "8:\tlearn: 0.4401035\ttotal: 4.78s\tremaining: 532ms\n",
      "9:\tlearn: 0.4334107\ttotal: 5.3s\tremaining: 0us\n",
      "Learning rate set to 0.5\n",
      "0:\tlearn: 0.5928237\ttotal: 546ms\tremaining: 4.92s\n",
      "1:\tlearn: 0.5434918\ttotal: 1.1s\tremaining: 4.4s\n",
      "2:\tlearn: 0.5183306\ttotal: 1.63s\tremaining: 3.79s\n",
      "3:\tlearn: 0.5022195\ttotal: 2.17s\tremaining: 3.26s\n",
      "4:\tlearn: 0.4851808\ttotal: 2.71s\tremaining: 2.71s\n",
      "5:\tlearn: 0.4735411\ttotal: 3.23s\tremaining: 2.15s\n",
      "6:\tlearn: 0.4611307\ttotal: 3.73s\tremaining: 1.6s\n",
      "7:\tlearn: 0.4510413\ttotal: 4.27s\tremaining: 1.07s\n",
      "8:\tlearn: 0.4410406\ttotal: 4.82s\tremaining: 536ms\n",
      "9:\tlearn: 0.4335009\ttotal: 5.33s\tremaining: 0us\n",
      "Área Bajo la Curva ROC: 0.8873818773084938\n",
      "F1 score: 0.8107301331181929\n",
      "Puntuación media de la evaluación del modelo: 0.7937460384534122\n",
      "Matriz de confusion:\n",
      "[[ 8924  2950]\n",
      " [ 1742 10049]]\n",
      "CPU times: total: 4min 20s\n",
      "Wall time: 51 s\n"
     ]
    }
   ],
   "source": [
    "%%time\n",
    "model_2 = CatBoostClassifier(iterations=10, loss_function='Logloss', random_seed=12345).fit(train_features, train_target, verbose=10)\n",
    "\n",
    "auc_roc, f1, final_score, confusion_matriz = metrics(model=model_2, features=train_features, target=train_target)\n",
    "\n",
    "print('Área Bajo la Curva ROC:', auc_roc)\n",
    "print('F1 score:', f1)\n",
    "print('Puntuación media de la evaluación del modelo:', final_score)\n",
    "print('Matriz de confusion:')\n",
    "print(confusion_matriz)"
   ]
  },
  {
   "cell_type": "code",
   "execution_count": 61,
   "metadata": {},
   "outputs": [
    {
     "name": "stdout",
     "output_type": "stream",
     "text": [
      "Learning rate set to 0.5\n",
      "0:\tlearn: 0.5859437\ttotal: 486ms\tremaining: 4.37s\n",
      "1:\tlearn: 0.5452049\ttotal: 919ms\tremaining: 3.68s\n",
      "2:\tlearn: 0.5212811\ttotal: 1.41s\tremaining: 3.29s\n",
      "3:\tlearn: 0.5023695\ttotal: 1.85s\tremaining: 2.78s\n",
      "4:\tlearn: 0.4872611\ttotal: 2.29s\tremaining: 2.29s\n",
      "5:\tlearn: 0.4717423\ttotal: 2.73s\tremaining: 1.82s\n",
      "6:\tlearn: 0.4619647\ttotal: 3.17s\tremaining: 1.36s\n",
      "7:\tlearn: 0.4543185\ttotal: 3.62s\tremaining: 906ms\n",
      "8:\tlearn: 0.4450939\ttotal: 4.06s\tremaining: 451ms\n",
      "9:\tlearn: 0.4375054\ttotal: 4.49s\tremaining: 0us\n",
      "Learning rate set to 0.5\n",
      "0:\tlearn: 0.5845798\ttotal: 469ms\tremaining: 4.22s\n",
      "1:\tlearn: 0.5401084\ttotal: 929ms\tremaining: 3.71s\n",
      "2:\tlearn: 0.5164679\ttotal: 1.39s\tremaining: 3.24s\n",
      "3:\tlearn: 0.4995535\ttotal: 1.84s\tremaining: 2.77s\n",
      "4:\tlearn: 0.4847609\ttotal: 2.34s\tremaining: 2.34s\n",
      "5:\tlearn: 0.4717614\ttotal: 2.8s\tremaining: 1.87s\n",
      "6:\tlearn: 0.4620699\ttotal: 3.26s\tremaining: 1.4s\n",
      "7:\tlearn: 0.4514154\ttotal: 3.69s\tremaining: 923ms\n",
      "8:\tlearn: 0.4432344\ttotal: 4.13s\tremaining: 459ms\n",
      "9:\tlearn: 0.4355719\ttotal: 4.58s\tremaining: 0us\n",
      "Learning rate set to 0.5\n",
      "0:\tlearn: 0.5804465\ttotal: 440ms\tremaining: 3.96s\n",
      "1:\tlearn: 0.5397767\ttotal: 883ms\tremaining: 3.53s\n",
      "2:\tlearn: 0.5138414\ttotal: 1.32s\tremaining: 3.09s\n",
      "3:\tlearn: 0.4963782\ttotal: 1.77s\tremaining: 2.65s\n",
      "4:\tlearn: 0.4806418\ttotal: 2.21s\tremaining: 2.21s\n",
      "5:\tlearn: 0.4696278\ttotal: 2.64s\tremaining: 1.76s\n",
      "6:\tlearn: 0.4601373\ttotal: 3.11s\tremaining: 1.33s\n",
      "7:\tlearn: 0.4516888\ttotal: 3.6s\tremaining: 900ms\n",
      "8:\tlearn: 0.4448500\ttotal: 4.06s\tremaining: 451ms\n",
      "9:\tlearn: 0.4358792\ttotal: 4.55s\tremaining: 0us\n",
      "Learning rate set to 0.5\n",
      "0:\tlearn: 0.5872958\ttotal: 481ms\tremaining: 4.33s\n",
      "1:\tlearn: 0.5449887\ttotal: 931ms\tremaining: 3.73s\n",
      "2:\tlearn: 0.5220252\ttotal: 1.39s\tremaining: 3.23s\n",
      "3:\tlearn: 0.5026183\ttotal: 1.84s\tremaining: 2.77s\n",
      "4:\tlearn: 0.4864638\ttotal: 2.29s\tremaining: 2.29s\n",
      "5:\tlearn: 0.4747071\ttotal: 2.75s\tremaining: 1.83s\n",
      "6:\tlearn: 0.4647011\ttotal: 3.2s\tremaining: 1.37s\n",
      "7:\tlearn: 0.4542596\ttotal: 3.65s\tremaining: 914ms\n",
      "8:\tlearn: 0.4450860\ttotal: 4.1s\tremaining: 456ms\n",
      "9:\tlearn: 0.4368251\ttotal: 4.56s\tremaining: 0us\n",
      "Learning rate set to 0.5\n",
      "0:\tlearn: 0.5952294\ttotal: 458ms\tremaining: 4.12s\n",
      "1:\tlearn: 0.5521195\ttotal: 921ms\tremaining: 3.68s\n",
      "2:\tlearn: 0.5226883\ttotal: 1.38s\tremaining: 3.22s\n",
      "3:\tlearn: 0.5020978\ttotal: 1.87s\tremaining: 2.81s\n",
      "4:\tlearn: 0.4864392\ttotal: 2.36s\tremaining: 2.36s\n",
      "5:\tlearn: 0.4747787\ttotal: 2.85s\tremaining: 1.9s\n",
      "6:\tlearn: 0.4645501\ttotal: 3.31s\tremaining: 1.42s\n",
      "7:\tlearn: 0.4535027\ttotal: 3.79s\tremaining: 948ms\n",
      "8:\tlearn: 0.4447172\ttotal: 4.27s\tremaining: 475ms\n",
      "9:\tlearn: 0.4358941\ttotal: 4.79s\tremaining: 0us\n",
      "Área Bajo la Curva ROC: 0.8792278593406326\n",
      "F1 score: 0.8048653623014445\n",
      "Puntuación media de la evaluación del modelo: 0.795783035471446\n",
      "Matriz de confusion:\n",
      "[[ 8731  3110]\n",
      " [ 1767 10058]]\n",
      "CPU times: total: 3min 6s\n",
      "Wall time: 37.3 s\n"
     ]
    }
   ],
   "source": [
    "%%time\n",
    "auc_roc, f1, final_score, confusion_matriz = metrics(model=model_2, features=test_features, target=test_target)\n",
    "\n",
    "print('Área Bajo la Curva ROC:', auc_roc)\n",
    "print('F1 score:', f1)\n",
    "print('Puntuación media de la evaluación del modelo:', final_score)\n",
    "print('Matriz de confusion:')\n",
    "print(confusion_matriz)"
   ]
  },
  {
   "cell_type": "markdown",
   "metadata": {},
   "source": [
    "Para obtener mejores resultados que el modelo 1 teníamos que entrenar este modelo con los hiperparámetros adecuados, lo cual llevaba horas. Este modelo es muy simple, los resultados obtenidos no fueron los esperados, vamos a seguir con el entrenamiento para optimizar nuestras métricas. "
   ]
  },
  {
   "cell_type": "markdown",
   "metadata": {},
   "source": [
    "### Modelo 3 - LightGBM."
   ]
  },
  {
   "cell_type": "code",
   "execution_count": 62,
   "metadata": {},
   "outputs": [
    {
     "name": "stdout",
     "output_type": "stream",
     "text": [
      "Área Bajo la Curva ROC: 0.9721156544246062\n",
      "F1 score: 0.9091897770527461\n",
      "Puntuación media de la evaluación del modelo: 0.85041200084513\n",
      "Matriz de confusion:\n",
      "[[10626  1248]\n",
      " [  923 10868]]\n",
      "CPU times: total: 8min 59s\n",
      "Wall time: 1min 16s\n"
     ]
    }
   ],
   "source": [
    "%%time\n",
    "model_3 = LGBMClassifier(random_state=12345).fit(train_features, train_target)\n",
    "\n",
    "auc_roc, f1, final_score, confusion_matriz = metrics(model=model_3, features=train_features, target=train_target)\n",
    "\n",
    "print('Área Bajo la Curva ROC:', auc_roc)\n",
    "print('F1 score:', f1)\n",
    "print('Puntuación media de la evaluación del modelo:', final_score)\n",
    "print('Matriz de confusion:')\n",
    "print(confusion_matriz)"
   ]
  },
  {
   "cell_type": "code",
   "execution_count": 63,
   "metadata": {},
   "outputs": [
    {
     "name": "stdout",
     "output_type": "stream",
     "text": [
      "Área Bajo la Curva ROC: 0.9316183047650575\n",
      "F1 score: 0.8547883630915221\n",
      "Puntuación media de la evaluación del modelo: 0.8504182670176794\n",
      "Matriz de confusion:\n",
      "[[ 9908  1933]\n",
      " [ 1556 10269]]\n",
      "CPU times: total: 6min 59s\n",
      "Wall time: 1min 4s\n"
     ]
    }
   ],
   "source": [
    "%%time\n",
    "auc_roc, f1, final_score, confusion_matriz = metrics(model=model_3, features=test_features, target=test_target)\n",
    "\n",
    "print('Área Bajo la Curva ROC:', auc_roc)\n",
    "print('F1 score:', f1)\n",
    "print('Puntuación media de la evaluación del modelo:', final_score)\n",
    "print('Matriz de confusion:')\n",
    "print(confusion_matriz)"
   ]
  },
  {
   "cell_type": "markdown",
   "metadata": {},
   "source": [
    "Las metricas son buenas, cumplen con la meta, pero no mejoran las de regresion logistica hasta el momento. "
   ]
  },
  {
   "cell_type": "markdown",
   "metadata": {},
   "source": [
    "### Modelo 4 - Bosques aleatorios. "
   ]
  },
  {
   "cell_type": "code",
   "execution_count": 66,
   "metadata": {},
   "outputs": [
    {
     "name": "stdout",
     "output_type": "stream",
     "text": [
      "Área Bajo la Curva ROC: 0.999817343978166\n",
      "F1 score: 0.9943834567270871\n",
      "Puntuación media de la evaluación del modelo: 0.7571096556095499\n",
      "Matriz de confusion:\n",
      "[[11848    26]\n",
      " [  106 11685]]\n",
      "CPU times: total: 41 s\n",
      "Wall time: 41.3 s\n"
     ]
    }
   ],
   "source": [
    "%%time \n",
    "model_4 = RandomForestClassifier(random_state=54321, n_estimators=10).fit(train_features, train_target)\n",
    "\n",
    "auc_roc, f1, final_score, confusion_matriz = metrics(model=model_4, features=train_features, target=train_target)\n",
    "\n",
    "print('Área Bajo la Curva ROC:', auc_roc)\n",
    "print('F1 score:', f1)\n",
    "print('Puntuación media de la evaluación del modelo:', final_score)\n",
    "print('Matriz de confusion:')\n",
    "print(confusion_matriz)"
   ]
  },
  {
   "cell_type": "code",
   "execution_count": 67,
   "metadata": {},
   "outputs": [
    {
     "name": "stdout",
     "output_type": "stream",
     "text": [
      "Área Bajo la Curva ROC: 0.8408214086826632\n",
      "F1 score: 0.7431242625034038\n",
      "Puntuación media de la evaluación del modelo: 0.7588526870142321\n",
      "Matriz de confusion:\n",
      "[[9819 2022]\n",
      " [3638 8187]]\n",
      "CPU times: total: 30.3 s\n",
      "Wall time: 30.4 s\n"
     ]
    }
   ],
   "source": [
    "%%time\n",
    "auc_roc, f1, final_score, confusion_matriz = metrics(model=model_4, features=test_features, target=test_target)\n",
    "\n",
    "print('Área Bajo la Curva ROC:', auc_roc)\n",
    "print('F1 score:', f1)\n",
    "print('Puntuación media de la evaluación del modelo:', final_score)\n",
    "print('Matriz de confusion:')\n",
    "print(confusion_matriz)"
   ]
  },
  {
   "cell_type": "markdown",
   "metadata": {},
   "source": [
    "Vemos que nuestro modelo sufrió un sobreajuste, las métricas obtenidas no cumplieron los objetivos. Una vez entrenado los 4 modelos anteriores, y probados con el conjunto de datos de prueba podemos deducir que nuestro ganador seria la regresión logística, y en segundo lugar LightGBM. "
   ]
  },
  {
   "cell_type": "markdown",
   "metadata": {},
   "source": [
    "## Prueba de modelos con reseñas propias."
   ]
  },
  {
   "cell_type": "code",
   "execution_count": 109,
   "metadata": {},
   "outputs": [],
   "source": [
    "my_reviews = pd.DataFrame([\n",
    "    'I did not simply like it, not my kind of movie.',\n",
    "    'Well, I was bored and felt asleep in the middle of the movie.',\n",
    "    'I was really fascinated with the movie',    \n",
    "    'Even the actors looked really old and disinterested, and they got paid to be in the movie. What a soulless cash grab.',\n",
    "    'I didn\\'t expect the reboot to be so good! Writers really cared about the source material',\n",
    "    'The movie had its upsides and downsides, but I feel like overall it\\'s a decent flick. I could see myself going to see it again.',\n",
    "    'What a rotten attempt at a comedy. Not a single joke lands, everyone acts annoying and loud, even kids won\\'t like this!',\n",
    "    'Launching on Netflix was a brave move & I really appreciate being able to binge on episode after episode, of this exciting intelligent new drama.'\n",
    "], columns=['review'])\n",
    "\n",
    "corpus = my_reviews['review']"
   ]
  },
  {
   "cell_type": "code",
   "execution_count": 110,
   "metadata": {},
   "outputs": [
    {
     "data": {
      "text/plain": [
       "['I do not simply like it not my kind of movie',\n",
       " 'well I be bored and feel asleep in the middle of the movie',\n",
       " 'I be really fascinated with the movie',\n",
       " 'even the actor look really old and disintereste and they get pay to be in the movie what a soulless cash grab',\n",
       " 'I do not expect the reboot to be so good writer really care about the source material',\n",
       " 'the movie have its upside and downside but I feel like overall it be a decent flick I could see myself go to see it again',\n",
       " 'what a rotten attempt at a comedy not a single joke land everyone act annoying and loud even kid will not like this',\n",
       " 'launch on netflix be a brave move I really appreciate be able to binge on episode after episode of this exciting intelligent new drama']"
      ]
     },
     "execution_count": 110,
     "metadata": {},
     "output_type": "execute_result"
    }
   ],
   "source": [
    "my_reviews_lemm = []\n",
    "for i in range(len(my_reviews)):\n",
    "    review = lemmatize(clear_text(corpus[i]))\n",
    "    my_reviews_lemm.append(review)\n",
    "\n",
    "my_reviews_lemm"
   ]
  },
  {
   "cell_type": "code",
   "execution_count": 111,
   "metadata": {},
   "outputs": [
    {
     "data": {
      "text/html": [
       "<div>\n",
       "<style scoped>\n",
       "    .dataframe tbody tr th:only-of-type {\n",
       "        vertical-align: middle;\n",
       "    }\n",
       "\n",
       "    .dataframe tbody tr th {\n",
       "        vertical-align: top;\n",
       "    }\n",
       "\n",
       "    .dataframe thead th {\n",
       "        text-align: right;\n",
       "    }\n",
       "</style>\n",
       "<table border=\"1\" class=\"dataframe\">\n",
       "  <thead>\n",
       "    <tr style=\"text-align: right;\">\n",
       "      <th></th>\n",
       "      <th>review</th>\n",
       "      <th>review_lemm</th>\n",
       "    </tr>\n",
       "  </thead>\n",
       "  <tbody>\n",
       "    <tr>\n",
       "      <th>0</th>\n",
       "      <td>I did not simply like it, not my kind of movie.</td>\n",
       "      <td>I do not simply like it not my kind of movie</td>\n",
       "    </tr>\n",
       "    <tr>\n",
       "      <th>1</th>\n",
       "      <td>Well, I was bored and felt asleep in the middl...</td>\n",
       "      <td>well I be bored and feel asleep in the middle ...</td>\n",
       "    </tr>\n",
       "    <tr>\n",
       "      <th>2</th>\n",
       "      <td>I was really fascinated with the movie</td>\n",
       "      <td>I be really fascinated with the movie</td>\n",
       "    </tr>\n",
       "    <tr>\n",
       "      <th>3</th>\n",
       "      <td>Even the actors looked really old and disinter...</td>\n",
       "      <td>even the actor look really old and disinterest...</td>\n",
       "    </tr>\n",
       "    <tr>\n",
       "      <th>4</th>\n",
       "      <td>I didn't expect the reboot to be so good! Writ...</td>\n",
       "      <td>I do not expect the reboot to be so good write...</td>\n",
       "    </tr>\n",
       "    <tr>\n",
       "      <th>5</th>\n",
       "      <td>The movie had its upsides and downsides, but I...</td>\n",
       "      <td>the movie have its upside and downside but I f...</td>\n",
       "    </tr>\n",
       "    <tr>\n",
       "      <th>6</th>\n",
       "      <td>What a rotten attempt at a comedy. Not a singl...</td>\n",
       "      <td>what a rotten attempt at a comedy not a single...</td>\n",
       "    </tr>\n",
       "    <tr>\n",
       "      <th>7</th>\n",
       "      <td>Launching on Netflix was a brave move &amp; I real...</td>\n",
       "      <td>launch on netflix be a brave move I really app...</td>\n",
       "    </tr>\n",
       "  </tbody>\n",
       "</table>\n",
       "</div>"
      ],
      "text/plain": [
       "                                              review  \\\n",
       "0    I did not simply like it, not my kind of movie.   \n",
       "1  Well, I was bored and felt asleep in the middl...   \n",
       "2             I was really fascinated with the movie   \n",
       "3  Even the actors looked really old and disinter...   \n",
       "4  I didn't expect the reboot to be so good! Writ...   \n",
       "5  The movie had its upsides and downsides, but I...   \n",
       "6  What a rotten attempt at a comedy. Not a singl...   \n",
       "7  Launching on Netflix was a brave move & I real...   \n",
       "\n",
       "                                         review_lemm  \n",
       "0       I do not simply like it not my kind of movie  \n",
       "1  well I be bored and feel asleep in the middle ...  \n",
       "2              I be really fascinated with the movie  \n",
       "3  even the actor look really old and disinterest...  \n",
       "4  I do not expect the reboot to be so good write...  \n",
       "5  the movie have its upside and downside but I f...  \n",
       "6  what a rotten attempt at a comedy not a single...  \n",
       "7  launch on netflix be a brave move I really app...  "
      ]
     },
     "execution_count": 111,
     "metadata": {},
     "output_type": "execute_result"
    }
   ],
   "source": [
    "my_reviews['review_lemm'] = my_reviews_lemm\n",
    "\n",
    "my_reviews"
   ]
  },
  {
   "cell_type": "code",
   "execution_count": 118,
   "metadata": {},
   "outputs": [
    {
     "data": {
      "text/plain": [
       "(8, 60601)"
      ]
     },
     "execution_count": 118,
     "metadata": {},
     "output_type": "execute_result"
    }
   ],
   "source": [
    "corpus = my_reviews['review_lemm']\n",
    "\n",
    "features = vectorizer.transform(corpus)\n",
    "features.shape"
   ]
  },
  {
   "cell_type": "markdown",
   "metadata": {},
   "source": [
    "### Regresión logística."
   ]
  },
  {
   "cell_type": "code",
   "execution_count": 125,
   "metadata": {},
   "outputs": [
    {
     "name": "stdout",
     "output_type": "stream",
     "text": [
      "0.19, 0.0:  I do not simply like it not my kind of movie\n",
      "0.10, 0.0:  well I be bored and feel asleep in the middle of the movie\n",
      "0.58, 1.0:  I be really fascinated with the movie\n",
      "0.18, 0.0:  even the actor look really old and disintereste and they get pay to be in the movie what a soulless cash grab\n",
      "0.42, 0.0:  I do not expect the reboot to be so good writer really care about the source material\n",
      "0.39, 0.0:  the movie have its upside and downside but I feel like overall it be a decent flick I could see myself go to see it again\n",
      "0.04, 0.0:  what a rotten attempt at a comedy not a single joke land everyone act annoying and loud even kid will not like this\n",
      "0.90, 1.0:  launch on netflix be a brave move I really appreciate be able to binge on episode after episode of this exciting intelligent new drama\n"
     ]
    }
   ],
   "source": [
    "probabilities = model_1.predict_proba(features)\n",
    "predictions = model_1.predict(features)\n",
    " \n",
    "for i, review in enumerate(corpus.str.slice(0, 300)):\n",
    "    print(f'{probabilities[:,1][i]:.2f}, {predictions[i]}:  {review}')"
   ]
  },
  {
   "cell_type": "markdown",
   "metadata": {},
   "source": [
    "### CatBoost."
   ]
  },
  {
   "cell_type": "code",
   "execution_count": 126,
   "metadata": {},
   "outputs": [
    {
     "name": "stdout",
     "output_type": "stream",
     "text": [
      "0.58, 1:  I do not simply like it not my kind of movie\n",
      "0.61, 1:  well I be bored and feel asleep in the middle of the movie\n",
      "0.61, 1:  I be really fascinated with the movie\n",
      "0.61, 1:  even the actor look really old and disintereste and they get pay to be in the movie what a soulless cash grab\n",
      "0.65, 1:  I do not expect the reboot to be so good writer really care about the source material\n",
      "0.58, 1:  the movie have its upside and downside but I feel like overall it be a decent flick I could see myself go to see it again\n",
      "0.45, 0:  what a rotten attempt at a comedy not a single joke land everyone act annoying and loud even kid will not like this\n",
      "0.61, 1:  launch on netflix be a brave move I really appreciate be able to binge on episode after episode of this exciting intelligent new drama\n"
     ]
    }
   ],
   "source": [
    "probabilities = model_2.predict_proba(features)\n",
    "predictions = model_2.predict(features)\n",
    " \n",
    "for i, review in enumerate(corpus.str.slice(0, 200)):\n",
    "    print(f'{probabilities[:,1][i]:.2f}, {predictions[i]}:  {review}')"
   ]
  },
  {
   "cell_type": "markdown",
   "metadata": {},
   "source": [
    "### LightGBM."
   ]
  },
  {
   "cell_type": "code",
   "execution_count": 127,
   "metadata": {},
   "outputs": [
    {
     "name": "stdout",
     "output_type": "stream",
     "text": [
      "0.58, 1.0:  I do not simply like it not my kind of movie\n",
      "0.51, 1.0:  well I be bored and feel asleep in the middle of the movie\n",
      "0.62, 1.0:  I be really fascinated with the movie\n",
      "0.45, 0.0:  even the actor look really old and disintereste and they get pay to be in the movie what a soulless cash grab\n",
      "0.79, 1.0:  I do not expect the reboot to be so good writer really care about the source material\n",
      "0.52, 1.0:  the movie have its upside and downside but I feel like overall it be a decent flick I could see myself go to see it again\n",
      "0.31, 0.0:  what a rotten attempt at a comedy not a single joke land everyone act annoying and loud even kid will not like this\n",
      "0.85, 1.0:  launch on netflix be a brave move I really appreciate be able to binge on episode after episode of this exciting intelligent new drama\n"
     ]
    }
   ],
   "source": [
    "probabilities = model_3.predict_proba(features)\n",
    "predictions = model_3.predict(features)\n",
    " \n",
    "for i, review in enumerate(corpus.str.slice(0, 200)):\n",
    "    print(f'{probabilities[:,1][i]:.2f}, {predictions[i]}:  {review}')"
   ]
  },
  {
   "cell_type": "markdown",
   "metadata": {},
   "source": [
    "### Bosques aleatorios."
   ]
  },
  {
   "cell_type": "code",
   "execution_count": 128,
   "metadata": {},
   "outputs": [
    {
     "name": "stdout",
     "output_type": "stream",
     "text": [
      "0.50, 0.0:  I do not simply like it not my kind of movie\n",
      "0.60, 1.0:  well I be bored and feel asleep in the middle of the movie\n",
      "0.90, 1.0:  I be really fascinated with the movie\n",
      "0.90, 1.0:  even the actor look really old and disintereste and they get pay to be in the movie what a soulless cash grab\n",
      "0.50, 0.0:  I do not expect the reboot to be so good writer really care about the source material\n",
      "0.70, 1.0:  the movie have its upside and downside but I feel like overall it be a decent flick I could see myself go to see it again\n",
      "0.40, 0.0:  what a rotten attempt at a comedy not a single joke land everyone act annoying and loud even kid will not like this\n",
      "0.90, 1.0:  launch on netflix be a brave move I really appreciate be able to binge on episode after episode of this exciting intelligent new drama\n"
     ]
    }
   ],
   "source": [
    "probabilities = model_4.predict_proba(features)\n",
    "predictions = model_4.predict(features)\n",
    " \n",
    "for i, review in enumerate(corpus.str.slice(0, 200)):\n",
    "    print(f'{probabilities[:,1][i]:.2f}, {predictions[i]}:  {review}')"
   ]
  },
  {
   "cell_type": "markdown",
   "metadata": {},
   "source": [
    "# Conclusion. \n",
    "---\n",
    "Después de comparar los modelos, tenemos un claro empate entre la regresión logística y LightGBM. El primer modelo cuenta con 2 VP, 4 VN, y 2 FN, mientras que el segundo tiene en total 4 VP, 2 VN, y 2 FP. Tal parece que mientras uno se inclina hacia las reseñas negativas, otro tiene su peso en las reseñas positivas. \n",
    "\n",
    "Al final ambos modelos cumplen con alcanzar un valor F1 de al menos 0.85, en mi opinion, los modelos LightGBM y CatBoost tiene la capacidad para mejorar estos numeros, pero para lograrlo se necesitan horas de entrenamiento, y ejecutarlos en GPU para obtener un rendimiento adecuado, ya que se requiere mucha potencia computacional."
   ]
  }
 ],
 "metadata": {
  "kernelspec": {
   "display_name": "Python 3",
   "language": "python",
   "name": "python3"
  },
  "language_info": {
   "codemirror_mode": {
    "name": "ipython",
    "version": 3
   },
   "file_extension": ".py",
   "mimetype": "text/x-python",
   "name": "python",
   "nbconvert_exporter": "python",
   "pygments_lexer": "ipython3",
   "version": "3.12.4"
  }
 },
 "nbformat": 4,
 "nbformat_minor": 2
}
